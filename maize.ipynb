{
  "cells": [
    {
      "cell_type": "code",
      "execution_count": null,
      "metadata": {
        "id": "FlwzMjRyFvqj"
      },
      "outputs": [],
      "source": [
        "# main modules needed\n",
        "import pandas as pd\n",
        "import numpy as np\n",
        "import seaborn as sns\n",
        "import tensorflow as tf\n",
        "from sklearn import linear_model\n",
        "from sklearn.model_selection import train_test_split\n",
        "from matplotlib import pyplot as plt\n",
        "from scipy import stats\n",
        "from sklearn.decomposition import PCA\n",
        "from sklearn.preprocessing import StandardScaler\n",
        "from sklearn.preprocessing import MinMaxScaler\n",
        "from sklearn.preprocessing import scale\n",
        "from sklearn import preprocessing\n",
        "from sklearn.impute import SimpleImputer\n",
        "from sklearn import metrics\n",
        "from sklearn.neural_network import MLPClassifier\n",
        "from sklearn.metrics import classification_report,confusion_matrix\n",
        "from sklearn.metrics import roc_curve, auc\n",
        "from sklearn.ensemble import RandomForestRegressor\n",
        "from sklearn.svm import SVR\n",
        "from sklearn.neural_network import MLPRegressor\n",
        "from sklearn.model_selection import KFold\n",
        "from sklearn.model_selection import StratifiedKFold\n",
        "from sklearn.model_selection import cross_val_score\n",
        "from scipy.stats import norm \n",
        "from scipy.stats import sem\n",
        "from scipy.stats import shapiro\n",
        "import math\n",
        "\n",
        "\n",
        "\n",
        " \n",
        "# keras items \n",
        "import keras\n",
        "from keras import regularizers\n",
        "from keras.models import Sequential, load_model\n",
        "from keras.layers import Dense, Activation, Dropout\n",
        "from keras.layers import Flatten, Conv1D, MaxPooling1D, LSTM #CNNs\n",
        "from keras.activations import relu, elu, linear, softmax\n",
        "from keras.callbacks import EarlyStopping, Callback\n",
        "from keras.wrappers.scikit_learn import KerasRegressor\n",
        "from tensorflow.keras.optimizers import Adam, Nadam, SGD\n",
        "from keras.losses import mean_squared_error, categorical_crossentropy, logcosh\n",
        "from keras.utils.np_utils import to_categorical\n",
        "from keras.regularizers import l2\n",
        "#from kerastuner.tuners import RandomSearch"
      ]
    },
    {
      "cell_type": "code",
      "execution_count": null,
      "metadata": {
        "colab": {
          "base_uri": "https://localhost:8080/",
          "height": 107
        },
        "id": "XDc8Pf7OHMr8",
        "outputId": "52e3f343-87f0-4edd-d2fd-c1f922e78e36"
      },
      "outputs": [
        {
          "output_type": "display_data",
          "data": {
            "text/plain": [
              "<IPython.core.display.HTML object>"
            ],
            "text/html": [
              "\n",
              "     <input type=\"file\" id=\"files-bf6e5c04-732d-4a62-8fb0-0c518554f0dd\" name=\"files[]\" multiple disabled\n",
              "        style=\"border:none\" />\n",
              "     <output id=\"result-bf6e5c04-732d-4a62-8fb0-0c518554f0dd\">\n",
              "      Upload widget is only available when the cell has been executed in the\n",
              "      current browser session. Please rerun this cell to enable.\n",
              "      </output>\n",
              "      <script>// Copyright 2017 Google LLC\n",
              "//\n",
              "// Licensed under the Apache License, Version 2.0 (the \"License\");\n",
              "// you may not use this file except in compliance with the License.\n",
              "// You may obtain a copy of the License at\n",
              "//\n",
              "//      http://www.apache.org/licenses/LICENSE-2.0\n",
              "//\n",
              "// Unless required by applicable law or agreed to in writing, software\n",
              "// distributed under the License is distributed on an \"AS IS\" BASIS,\n",
              "// WITHOUT WARRANTIES OR CONDITIONS OF ANY KIND, either express or implied.\n",
              "// See the License for the specific language governing permissions and\n",
              "// limitations under the License.\n",
              "\n",
              "/**\n",
              " * @fileoverview Helpers for google.colab Python module.\n",
              " */\n",
              "(function(scope) {\n",
              "function span(text, styleAttributes = {}) {\n",
              "  const element = document.createElement('span');\n",
              "  element.textContent = text;\n",
              "  for (const key of Object.keys(styleAttributes)) {\n",
              "    element.style[key] = styleAttributes[key];\n",
              "  }\n",
              "  return element;\n",
              "}\n",
              "\n",
              "// Max number of bytes which will be uploaded at a time.\n",
              "const MAX_PAYLOAD_SIZE = 100 * 1024;\n",
              "\n",
              "function _uploadFiles(inputId, outputId) {\n",
              "  const steps = uploadFilesStep(inputId, outputId);\n",
              "  const outputElement = document.getElementById(outputId);\n",
              "  // Cache steps on the outputElement to make it available for the next call\n",
              "  // to uploadFilesContinue from Python.\n",
              "  outputElement.steps = steps;\n",
              "\n",
              "  return _uploadFilesContinue(outputId);\n",
              "}\n",
              "\n",
              "// This is roughly an async generator (not supported in the browser yet),\n",
              "// where there are multiple asynchronous steps and the Python side is going\n",
              "// to poll for completion of each step.\n",
              "// This uses a Promise to block the python side on completion of each step,\n",
              "// then passes the result of the previous step as the input to the next step.\n",
              "function _uploadFilesContinue(outputId) {\n",
              "  const outputElement = document.getElementById(outputId);\n",
              "  const steps = outputElement.steps;\n",
              "\n",
              "  const next = steps.next(outputElement.lastPromiseValue);\n",
              "  return Promise.resolve(next.value.promise).then((value) => {\n",
              "    // Cache the last promise value to make it available to the next\n",
              "    // step of the generator.\n",
              "    outputElement.lastPromiseValue = value;\n",
              "    return next.value.response;\n",
              "  });\n",
              "}\n",
              "\n",
              "/**\n",
              " * Generator function which is called between each async step of the upload\n",
              " * process.\n",
              " * @param {string} inputId Element ID of the input file picker element.\n",
              " * @param {string} outputId Element ID of the output display.\n",
              " * @return {!Iterable<!Object>} Iterable of next steps.\n",
              " */\n",
              "function* uploadFilesStep(inputId, outputId) {\n",
              "  const inputElement = document.getElementById(inputId);\n",
              "  inputElement.disabled = false;\n",
              "\n",
              "  const outputElement = document.getElementById(outputId);\n",
              "  outputElement.innerHTML = '';\n",
              "\n",
              "  const pickedPromise = new Promise((resolve) => {\n",
              "    inputElement.addEventListener('change', (e) => {\n",
              "      resolve(e.target.files);\n",
              "    });\n",
              "  });\n",
              "\n",
              "  const cancel = document.createElement('button');\n",
              "  inputElement.parentElement.appendChild(cancel);\n",
              "  cancel.textContent = 'Cancel upload';\n",
              "  const cancelPromise = new Promise((resolve) => {\n",
              "    cancel.onclick = () => {\n",
              "      resolve(null);\n",
              "    };\n",
              "  });\n",
              "\n",
              "  // Wait for the user to pick the files.\n",
              "  const files = yield {\n",
              "    promise: Promise.race([pickedPromise, cancelPromise]),\n",
              "    response: {\n",
              "      action: 'starting',\n",
              "    }\n",
              "  };\n",
              "\n",
              "  cancel.remove();\n",
              "\n",
              "  // Disable the input element since further picks are not allowed.\n",
              "  inputElement.disabled = true;\n",
              "\n",
              "  if (!files) {\n",
              "    return {\n",
              "      response: {\n",
              "        action: 'complete',\n",
              "      }\n",
              "    };\n",
              "  }\n",
              "\n",
              "  for (const file of files) {\n",
              "    const li = document.createElement('li');\n",
              "    li.append(span(file.name, {fontWeight: 'bold'}));\n",
              "    li.append(span(\n",
              "        `(${file.type || 'n/a'}) - ${file.size} bytes, ` +\n",
              "        `last modified: ${\n",
              "            file.lastModifiedDate ? file.lastModifiedDate.toLocaleDateString() :\n",
              "                                    'n/a'} - `));\n",
              "    const percent = span('0% done');\n",
              "    li.appendChild(percent);\n",
              "\n",
              "    outputElement.appendChild(li);\n",
              "\n",
              "    const fileDataPromise = new Promise((resolve) => {\n",
              "      const reader = new FileReader();\n",
              "      reader.onload = (e) => {\n",
              "        resolve(e.target.result);\n",
              "      };\n",
              "      reader.readAsArrayBuffer(file);\n",
              "    });\n",
              "    // Wait for the data to be ready.\n",
              "    let fileData = yield {\n",
              "      promise: fileDataPromise,\n",
              "      response: {\n",
              "        action: 'continue',\n",
              "      }\n",
              "    };\n",
              "\n",
              "    // Use a chunked sending to avoid message size limits. See b/62115660.\n",
              "    let position = 0;\n",
              "    do {\n",
              "      const length = Math.min(fileData.byteLength - position, MAX_PAYLOAD_SIZE);\n",
              "      const chunk = new Uint8Array(fileData, position, length);\n",
              "      position += length;\n",
              "\n",
              "      const base64 = btoa(String.fromCharCode.apply(null, chunk));\n",
              "      yield {\n",
              "        response: {\n",
              "          action: 'append',\n",
              "          file: file.name,\n",
              "          data: base64,\n",
              "        },\n",
              "      };\n",
              "\n",
              "      let percentDone = fileData.byteLength === 0 ?\n",
              "          100 :\n",
              "          Math.round((position / fileData.byteLength) * 100);\n",
              "      percent.textContent = `${percentDone}% done`;\n",
              "\n",
              "    } while (position < fileData.byteLength);\n",
              "  }\n",
              "\n",
              "  // All done.\n",
              "  yield {\n",
              "    response: {\n",
              "      action: 'complete',\n",
              "    }\n",
              "  };\n",
              "}\n",
              "\n",
              "scope.google = scope.google || {};\n",
              "scope.google.colab = scope.google.colab || {};\n",
              "scope.google.colab._files = {\n",
              "  _uploadFiles,\n",
              "  _uploadFilesContinue,\n",
              "};\n",
              "})(self);\n",
              "</script> "
            ]
          },
          "metadata": {}
        },
        {
          "output_type": "stream",
          "name": "stdout",
          "text": [
            "Saving X2.csv to X2 (2).csv\n",
            "Saving Y2.csv to Y2 (2).csv\n"
          ]
        }
      ],
      "source": [
        "from google.colab import files\n",
        "uploaded = files.upload()"
      ]
    },
    {
      "cell_type": "code",
      "execution_count": null,
      "metadata": {
        "colab": {
          "base_uri": "https://localhost:8080/"
        },
        "id": "RQdJ0KfwHNYj",
        "outputId": "ab8b4f54-5a9f-4f85-c118-6d9f8e8b696e"
      },
      "outputs": [
        {
          "output_type": "stream",
          "name": "stdout",
          "text": [
            "(284, 1148)\n",
            "   0     1     2     3     4     5     6     7     8     9     ...  1138  \\\n",
            "0     1     1     1    -1    -1     1     1     1    -1    -1  ...    -1   \n",
            "1     1    -1     1     1     1     0     1    -1     1    -1  ...     1   \n",
            "2     1    -1     1     1    -1    -1     1    -1     1    -1  ...    -1   \n",
            "3     0     1     1    -1    -1    -1     1    -1    -1    -1  ...    -1   \n",
            "4     1     1     1     0    -1     1     1    -1     1     1  ...    -1   \n",
            "\n",
            "   1139  1140  1141  1142  1143  1144  1145  1146  1147  \n",
            "0    -1     1    -1    -1     1    -1    -1     1     0  \n",
            "1    -1     1    -1     1     1    -1     0     0    -1  \n",
            "2    -1     1    -1     0     1    -1    -1     1     0  \n",
            "3    -1     1    -1     1     1    -1    -1     1     0  \n",
            "4    -1     1    -1    -1     1    -1    -1     1     0  \n",
            "\n",
            "[5 rows x 1148 columns]\n",
            "(284, 6)\n",
            "          0          1          2         3          4          5\n",
            "0  1.108000  12.623310  13.767326  1.545574  12.095075  11.571367\n",
            "1  0.299160  11.193527  12.506937 -0.051519  13.432989  13.272317\n",
            "2  0.936763  11.089309  12.110311  0.772787  13.283871  12.928856\n",
            "3  2.215999  12.036512  12.620049  1.391017  13.507547  13.002455\n",
            "4  2.659199  11.778894  12.135284  2.988110  13.793356  12.904323\n",
            "   0     1     2     3     4     5     6     7     8     9     ...  1138  \\\n",
            "0   1.0   1.0   1.0   0.0   0.0   1.0   1.0   1.0   0.0   0.0  ...   0.0   \n",
            "1   1.0   0.0   1.0   1.0   1.0   0.5   1.0   0.0   1.0   0.0  ...   1.0   \n",
            "2   1.0   0.0   1.0   1.0   0.0   0.0   1.0   0.0   1.0   0.0  ...   0.0   \n",
            "3   0.5   1.0   1.0   0.0   0.0   0.0   1.0   0.0   0.0   0.0  ...   0.0   \n",
            "4   1.0   1.0   1.0   0.5   0.0   1.0   1.0   0.0   1.0   1.0  ...   0.0   \n",
            "\n",
            "   1139  1140  1141  1142  1143  1144  1145  1146  1147  \n",
            "0   0.0   1.0   0.0   0.0   1.0   0.0   0.0   1.0   0.5  \n",
            "1   0.0   1.0   0.0   1.0   1.0   0.0   0.5   0.5   0.0  \n",
            "2   0.0   1.0   0.0   0.5   1.0   0.0   0.0   1.0   0.5  \n",
            "3   0.0   1.0   0.0   1.0   1.0   0.0   0.0   1.0   0.5  \n",
            "4   0.0   1.0   0.0   0.0   1.0   0.0   0.0   1.0   0.5  \n",
            "\n",
            "[5 rows x 1148 columns]\n",
            "          0         1         2         3         4         5\n",
            "0  0.536374  0.584158  0.699727  0.779093  0.248606  0.228070\n",
            "1  0.425407  0.327723  0.439490  0.534517  0.392642  0.410526\n",
            "2  0.512881  0.309031  0.357598  0.660750  0.376589  0.373684\n",
            "3  0.688382  0.478915  0.462845  0.755424  0.400669  0.381579\n",
            "4  0.749186  0.432710  0.362754  1.000000  0.431438  0.371053\n"
          ]
        }
      ],
      "source": [
        "X = pd.read_csv('X2.csv', header = None)\n",
        "Y = pd.read_csv('Y2.csv', header = None)\n",
        "\n",
        "print(X.shape)\n",
        "print(X.head(5))\n",
        "\n",
        "print(Y.shape)\n",
        "print(Y.head(5))\n",
        "\n",
        "X=(X-X.min())/(X.max()-X.min())\n",
        "Y=(Y-Y.min())/(Y.max()-Y.min())\n",
        "\n",
        "print(X.head(5))\n",
        "print(Y.head(5))"
      ]
    },
    {
      "cell_type": "code",
      "execution_count": null,
      "metadata": {
        "colab": {
          "base_uri": "https://localhost:8080/"
        },
        "id": "UZ_MYd9NOgsH",
        "outputId": "295dcfcc-29ca-44a1-a7e6-c71b7a242b49"
      },
      "outputs": [
        {
          "output_type": "stream",
          "name": "stdout",
          "text": [
            "(227, 1148) (227,)\n",
            "(57, 1148) (57,)\n"
          ]
        }
      ],
      "source": [
        "itrait=5 # first trait analyzed\n",
        "X_train, X_test, y_train, y_test = train_test_split(X, Y[itrait], test_size=0.2)\n",
        "print(X_train.shape, y_train.shape)\n",
        "print(X_test.shape, y_test.shape)"
      ]
    },
    {
      "cell_type": "code",
      "execution_count": null,
      "metadata": {
        "colab": {
          "base_uri": "https://localhost:8080/",
          "height": 333
        },
        "id": "AuZvGdpRHNc8",
        "outputId": "12d8bee5-bee2-42fd-f1b5-f3d2430dec19"
      },
      "outputs": [
        {
          "output_type": "stream",
          "name": "stdout",
          "text": [
            "       min max mean sd\n",
            "Train: 0.0 0.8388157894683913 0.40723431566752133 0.1058507805784175\n",
            "Test: 0.27500000033521 1.0 0.4224210015841556 0.11288187226894611\n"
          ]
        },
        {
          "output_type": "display_data",
          "data": {
            "text/plain": [
              "<Figure size 432x288 with 1 Axes>"
            ],
            "image/png": "[encoded data removed]"
          },
          "metadata": {
            "needs_background": "light"
          }
        }
      ],
      "source": [
        "# print basic statistics: max, min, mean, sd\n",
        "print('       min max mean sd')\n",
        "print('Train:', y_train.min(), y_train.max(), y_train.mean(), np.sqrt(y_train.var()))\n",
        "print('Test:', y_test.min(), y_test.max(), y_test.mean(), np.sqrt(y_test.var()))\n",
        "\n",
        "# do basic histograms\n",
        "plt.title('Train / test data')\n",
        "plt.hist(y_train, label='Train')\n",
        "plt.hist(y_test, label='Test')\n",
        "plt.legend(loc='best')\n",
        "plt.show()"
      ]
    },
    {
      "cell_type": "code",
      "execution_count": null,
      "metadata": {
        "colab": {
          "base_uri": "https://localhost:8080/",
          "height": 281
        },
        "id": "ZkWcABPCOvPp",
        "outputId": "941fbb83-8932-40ec-a7a1-79e6d8f40c7e"
      },
      "outputs": [
        {
          "output_type": "display_data",
          "data": {
            "text/plain": [
              "<Figure size 432x288 with 1 Axes>"
            ],
            "image/png": "[encoded data removed]"
          },
          "metadata": {
            "needs_background": "light"
          }
        }
      ],
      "source": [
        "# PCA\n",
        "X = np.concatenate((X_train, X_test))\n",
        "X = StandardScaler().fit_transform(X)\n",
        "pca = PCA(n_components=2)\n",
        "#X = pd.DataFrame(X).fillna(X.mean())\n",
        "p = pca.fit(X).fit_transform(X)\n",
        "Ntrain=X_train.shape[0]\n",
        "plt.title('PCA decomposition')\n",
        "plt.scatter(p[0:Ntrain,0], p[0:Ntrain,1], label='Train')\n",
        "plt.scatter(p[Ntrain:,0], p[Ntrain:,1], label='Test', color='orange')\n",
        "plt.legend(loc='best')\n",
        "plt.show()"
      ]
    },
    {
      "cell_type": "code",
      "execution_count": null,
      "metadata": {
        "colab": {
          "base_uri": "https://localhost:8080/",
          "height": 279
        },
        "id": "1WpZEYFTO01p",
        "outputId": "7f2caeed-e106-4c58-ec42-151cfb409133"
      },
      "outputs": [
        {
          "output_type": "display_data",
          "data": {
            "text/plain": [
              "<Figure size 432x288 with 1 Axes>"
            ],
            "image/png": "[encoded data removed]"
          },
          "metadata": {
            "needs_background": "light"
          }
        }
      ],
      "source": [
        "pvals = []\n",
        "for i in range(X_train.shape[1]):\n",
        "    b, intercept, r_value, p_value, std_err = stats.linregress(X_train[X_train.columns[i]], y_train)\n",
        "    pvals.append(-np.log10(p_value))\n",
        "pvals = np.array(pvals)\n",
        "\n",
        "# plot GWAS\n",
        "plt.ylabel('-log10 P-value')\n",
        "plt.xlabel('SNP')\n",
        "plt.plot(pvals, marker='o')\n",
        "plt.show()\n",
        "\n",
        "# select N_best most associated SNPs\n",
        "#N_best = X_train.shape[1] #all SNPs\n",
        "N_best = 100\n",
        "snp_list = pvals.argsort()[-N_best:]\n",
        "\n",
        "# or select by min_P_value\n",
        "min_P_value = 2 # P = 0.01\n",
        "snp_list = np.nonzero(pvals>min_P_value)\n",
        "\n",
        "# finally slice X\n",
        "X_train = X_train[X_train.columns[snp_list]] \n",
        "X_test = X_test[X_test.columns[snp_list]]"
      ]
    },
    {
      "cell_type": "code",
      "source": [
        "mlp_regressor = MLPRegressor(random_state=1, max_iter=500)\n",
        "mlp_regressor.fit(X_train,y_train)\n",
        "y_predict_mlp = mlp_regressor.predict((X_test))\n",
        "\n",
        "mse_mlp = metrics.mean_squared_error(y_test,y_predict_mlp)\n",
        "\n",
        "print(\"mse:\", mse_mlp)\n",
        "\n",
        "cv_mse_mlp= cross_val_score(mlp_regressor, X, Y[itrait], cv=10, scoring='neg_mean_squared_error')\n",
        "print('\\nAll MSE in prediction =',cv_mse_mlp)\n",
        "avg_cv_mse_mlp = abs((sum(cv_mse_mlp))/10)\n",
        "print('\\nCross Validated MSE in prediction =',avg_cv_mse_mlp)\n",
        "sem_mlp = sem(cv_mse_mlp)\n",
        "print('\\nStandard Error of MSE in prediction =',sem_mlp)\n"
      ],
      "metadata": {
        "colab": {
          "base_uri": "https://localhost:8080/"
        },
        "id": "p3dZh_uhPKXq",
        "outputId": "5b3533f1-13f7-4f00-d2dd-f45b6f9e3f27"
      },
      "execution_count": null,
      "outputs": [
        {
          "output_type": "stream",
          "name": "stdout",
          "text": [
            "mse: 0.02829466609060464\n",
            "\n",
            "All MSE in prediction = [-0.45650318 -0.5471403  -0.82761848 -0.68842909 -0.44237989 -0.71989846\n",
            " -0.83200407 -0.63599908 -0.98456986 -0.82474619]\n",
            "\n",
            "Cross Validated MSE in prediction = 0.6959288604442919\n",
            "\n",
            "Standard Error of MSE in prediction = 0.05614844312525726\n"
          ]
        }
      ]
    },
    {
      "cell_type": "code",
      "execution_count": null,
      "metadata": {
        "colab": {
          "base_uri": "https://localhost:8080/",
          "height": 486
        },
        "id": "sHSNggllO2uw",
        "outputId": "886b2705-9c34-420e-dd55-d434fab7e1d3"
      },
      "outputs": [
        {
          "output_type": "stream",
          "name": "stdout",
          "text": [
            "\n",
            "MSE in prediction = 0.042462499214373325\n",
            "\n",
            "All MSE in prediction = [-0.06575299 -0.06440999 -0.05536206 -0.0505298  -0.0622939  -0.07642986\n",
            " -0.05822843 -0.05472309 -0.03910334 -0.03872661]\n",
            "\n",
            "Cross Validated MSE in prediction = 0.056556008100323005\n",
            "\n",
            "Standard Error of MSE in prediction = 0.003712655677921841\n",
            "\n",
            "Corr obs vs pred = 0.15772377532559392\n"
          ]
        },
        {
          "output_type": "display_data",
          "data": {
            "text/plain": [
              "<Figure size 432x288 with 1 Axes>"
            ],
            "image/png": "[encoded data removed]"
          },
          "metadata": {
            "needs_background": "light"
          }
        }
      ],
      "source": [
        "# Standard penalized methods (lasso using scikit-learn)\n",
        "\n",
        "# alpha is the regularization parameter\n",
        "\n",
        "lasso = linear_model.Lasso(alpha=0.01, tol=0.1)\n",
        "lasso.fit(X_train, y_train)\n",
        "y_hat = lasso.predict(X_test)\n",
        "\n",
        "# mean squared error\n",
        "mse = metrics.mean_squared_error(y_test, y_hat)\n",
        "print('\\nMSE in prediction =',mse)\n",
        "\n",
        "cv_mse_lasso = cross_val_score(lasso, X, Y[itrait], cv=10, scoring='neg_mean_squared_error')\n",
        "print('\\nAll MSE in prediction =',cv_mse_lasso)\n",
        "avg_cv_mse_lasso = abs((sum(cv_mse_lasso))/10)\n",
        "print('\\nCross Validated MSE in prediction =',avg_cv_mse_lasso)\n",
        "sem_lasso = sem(cv_mse_lasso)\n",
        "print('\\nStandard Error of MSE in prediction =',sem_lasso)\n",
        "\n",
        "# correlation btw predicted and observed\n",
        "corr = np.corrcoef(y_test,y_hat)[0,1]\n",
        "print('\\nCorr obs vs pred =',corr)\n",
        "\n",
        "# plot observed vs. predicted targets\n",
        "plt.title('Lasso: Observed vs Predicted Y')\n",
        "plt.ylabel('Predicted')\n",
        "plt.xlabel('Observed')\n",
        "plt.scatter(y_test, y_hat, marker='o')\n",
        "plt.show()\n"
      ]
    },
    {
      "cell_type": "code",
      "execution_count": null,
      "metadata": {
        "colab": {
          "base_uri": "https://localhost:8080/"
        },
        "id": "uioRVREVPGuI",
        "outputId": "5e9f25a3-5c1a-44c2-fa56-da26f05b0ae1"
      },
      "outputs": [
        {
          "output_type": "stream",
          "name": "stdout",
          "text": [
            "MSE =  0.045752714342509215\n",
            "\n",
            "All MSE in prediction = [-0.04890459 -0.06057957 -0.04007948 -0.0394355  -0.04413946 -0.07160624\n",
            " -0.05870304 -0.04820556 -0.0318474  -0.04147696]\n",
            "\n",
            "Cross Validated MSE in prediction = 0.04849777991000048\n",
            "\n",
            "Standard Error of MSE in prediction = 0.0037754817559876664\n"
          ]
        }
      ],
      "source": [
        "#Random Forest\n",
        "\n",
        "RFReg = RandomForestRegressor(n_estimators = 50, random_state = 0)\n",
        "RFReg.fit(X_train, y_train)\n",
        "y_predict_rfr = RFReg.predict((X_test))\n",
        "mse_rand = metrics.mean_squared_error(y_test, y_predict_rfr)\n",
        "print('MSE = ', mse_rand)\n",
        "\n",
        "cv_mse_rf= cross_val_score(RFReg, X, Y[itrait], cv=10, scoring='neg_mean_squared_error')\n",
        "print('\\nAll MSE in prediction =',cv_mse_rf)\n",
        "avg_cv_mse_rf = abs((sum(cv_mse_rf))/10)\n",
        "print('\\nCross Validated MSE in prediction =',avg_cv_mse_rf)\n",
        "sem_rf = sem(cv_mse_rf)\n",
        "print('\\nStandard Error of MSE in prediction =',sem_rf)"
      ]
    },
    {
      "cell_type": "code",
      "execution_count": null,
      "metadata": {
        "colab": {
          "base_uri": "https://localhost:8080/"
        },
        "id": "RRFWpDyTPSrM",
        "outputId": "a2f93e1c-c176-483d-fe3f-1e2847747cc1"
      },
      "outputs": [
        {
          "output_type": "stream",
          "name": "stdout",
          "text": [
            "mse: 0.04595160216019861\n",
            "\n",
            "All MSE in prediction = [-0.05146318 -0.05900469 -0.04369017 -0.03751744 -0.04675606 -0.07292372\n",
            " -0.05348677 -0.04475378 -0.03499692 -0.04186757]\n",
            "\n",
            "Cross Validated MSE in prediction = 0.04864603152021256\n",
            "\n",
            "Standard Error of MSE in prediction = 0.0035393827697908792\n"
          ]
        }
      ],
      "source": [
        "#SVM\n",
        "\n",
        "svm_regressor=SVR(kernel='rbf')\n",
        "svm_regressor.fit(X_train,y_train)\n",
        "\n",
        "y_predict_svm = svm_regressor.predict((X_test))\n",
        "mse_svm = metrics.mean_squared_error(y_test, y_predict_svm)\n",
        "print(\"mse:\", mse_svm)\n",
        "cv_mse_svm= cross_val_score(svm_regressor, X, Y[itrait], cv=10, scoring='neg_mean_squared_error')\n",
        "print('\\nAll MSE in prediction =',cv_mse_svm)\n",
        "avg_cv_mse_svm = abs((sum(cv_mse_svm))/10)\n",
        "print('\\nCross Validated MSE in prediction =',avg_cv_mse_svm)\n",
        "sem_svm = sem(cv_mse_svm)\n",
        "print('\\nStandard Error of MSE in prediction =',sem_svm)"
      ]
    },
    {
      "cell_type": "code",
      "source": [
        "mlp_regressor=MLPRegressor(hidden_layer_sizes=(143,143,143), activation = 'relu', alpha=1.28, solver='lbfgs', learning_rate='adaptive',learning_rate_init=0.001, random_state=1, max_iter=500)\n",
        "mlp_regressor.fit(X_train,y_train)\n",
        "\n",
        "y_predict_mlp = mlp_regressor.predict((X_test))\n",
        "mse_mlp = metrics.mean_squared_error(y_test,y_predict_mlp)\n",
        "\n",
        "print(\"mse:\", mse_mlp)\n",
        "\n",
        "cv_mse_mlp= cross_val_score(mlp_regressor, X, Y[itrait], cv=10, scoring='neg_mean_squared_error')\n",
        "print('\\nAll MSE in prediction =',cv_mse_mlp)\n",
        "avg_cv_mse_mlp = abs((sum(cv_mse_mlp))/10)\n",
        "print('\\nCross Validated MSE in prediction =',avg_cv_mse_mlp)\n",
        "sem_mlp = sem(cv_mse_mlp)\n",
        "print('\\nStandard Error of MSE in prediction =',sem_mlp)\n"
      ],
      "metadata": {
        "colab": {
          "base_uri": "https://localhost:8080/"
        },
        "id": "EaA9pun3xkKk",
        "outputId": "39bbf507-0a9f-4fc5-d99a-8823754ab7d0"
      },
      "execution_count": null,
      "outputs": [
        {
          "output_type": "stream",
          "name": "stdout",
          "text": [
            "mse: 0.0113346164555301\n",
            "\n",
            "All MSE in prediction = [-0.01400687 -0.01156613 -0.01306888 -0.01317561 -0.01020522 -0.00948493\n",
            " -0.03267541 -0.01302434 -0.01413819 -0.02403231]\n",
            "\n",
            "Cross Validated MSE in prediction = 0.01553778964175257\n",
            "\n",
            "Standard Error of MSE in prediction = 0.0022827808307151146\n"
          ]
        }
      ]
    }
  ],
  "metadata": {
    "colab": {
      "provenance": []
    },
    "kernelspec": {
      "display_name": "Python 3",
      "name": "python3"
    },
    "language_info": {
      "name": "python"
    }
  },
  "nbformat": 4,
  "nbformat_minor": 0
}